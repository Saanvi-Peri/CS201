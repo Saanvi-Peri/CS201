{
 "cells": [
  {
   "cell_type": "code",
   "execution_count": 4,
   "metadata": {},
   "outputs": [],
   "source": [
    "import numpy as np\n",
    "import os\n",
    "import matplotlib.pyplot as plt\n",
    "from sklearn.svm import SVC\n",
    "from sklearn.model_selection import train_test_split\n",
    "\n",
    "from sklearn import metrics\n",
    "#from sklearn.preprocessing import StandardScaler"
   ]
  },
  {
   "cell_type": "code",
   "execution_count": 5,
   "metadata": {},
   "outputs": [
    {
     "name": "stdout",
     "output_type": "stream",
     "text": [
      "Classification report for SVC(): \n",
      "              precision    recall  f1-score   support\n",
      "\n",
      "           0       0.53      0.79      0.63        62\n",
      "           1       0.73      0.60      0.66        68\n",
      "           2       0.82      0.79      0.80       124\n",
      "           3       0.58      0.39      0.47        46\n",
      "\n",
      "    accuracy                           0.69       300\n",
      "   macro avg       0.66      0.64      0.64       300\n",
      "weighted avg       0.70      0.69      0.68       300\n",
      "\n",
      "\n"
     ]
    }
   ],
   "source": [
    "path='/home/saanviperi/data/puzzle.csv'\n",
    "X = np.loadtxt(path) # after the file is saved to the folder above\n",
    "\n",
    "rows = len(X)\n",
    "hist = 3\n",
    "\n",
    "# X is just a vector of values\n",
    "# we need to transform it into data matrix\n",
    "# each row is a case that has input and output\n",
    "# input is history, output is observation\n",
    "\n",
    "# data: history + 1 observation\n",
    "# for example, [1, 0, 2]: [1, 0] is history, [2] is obs\n",
    "# data looks like this (for hist = 2):\n",
    "       # [0, 3, 3],\n",
    "       # [3, 3, 0],\n",
    "       # [3, 0, 2],\n",
    "\n",
    "data = np.zeros((rows - hist, hist + 1), dtype = np.int32)\n",
    "\n",
    "for t in range(rows - hist):\n",
    "    data[t, :] = X[t: t+hist+1]\n",
    "    \n",
    "clf = SVC() # machine learning model (Support Vector Classifier)\n",
    "\n",
    "# prepare data: train and test division\n",
    "# X are your input variables\n",
    "X_train, X_test, y_train, y_test = train_test_split(\n",
    "    data[:, 0:hist], data[:, hist], test_size = 0.3, shuffle = False)    \n",
    "\n",
    "clf.fit(X_train, y_train) # machine learning training\n",
    "\n",
    "predicted = clf.predict(X_test)\n",
    "\n",
    "print(f\"Classification report for {clf}: \\n\"\n",
    "      f\"{metrics.classification_report(y_test, predicted)}\\n\")"
   ]
  },
  {
   "cell_type": "code",
   "execution_count": null,
   "metadata": {},
   "outputs": [],
   "source": []
  }
 ],
 "metadata": {
  "kernelspec": {
   "display_name": "Python 3",
   "language": "python",
   "name": "python3"
  },
  "language_info": {
   "codemirror_mode": {
    "name": "ipython",
    "version": 3
   },
   "file_extension": ".py",
   "mimetype": "text/x-python",
   "name": "python",
   "nbconvert_exporter": "python",
   "pygments_lexer": "ipython3",
   "version": "3.8.5"
  }
 },
 "nbformat": 4,
 "nbformat_minor": 4
}
