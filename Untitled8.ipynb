{
 "cells": [
  {
   "cell_type": "code",
   "execution_count": 5,
   "metadata": {},
   "outputs": [],
   "source": [
    "# finding missing plane\n",
    "\n",
    "import random\n",
    "import copy\n",
    "import numpy as np\n",
    "\n",
    "nplanes = 10000 # tota; number of planes\n",
    "\n",
    "# incorrect bc you can pick the same #\n",
    "#PD = [random.randint(1, 1000) for i in range(nplanes)]\n",
    "#PA = copy.deepcopy(PD)\n",
    "\n",
    "#del PA[random.randint(0, len(PA) - 1)]\n",
    "\n",
    "#P = PA + PD\n",
    "\n",
    "#correct, using \"without replacement\" drawing\n",
    "\n",
    "PD = random.sample(list(range(1,100000)),nplanes)\n",
    "PA = copy.deepcopy(PD)\n",
    "def find_dict(Z):\n",
    "    temp = ()\n",
    "    if i not in temp:\n",
    "        temp[1] = 1 # deported\n",
    "        \n",
    "    else:\n",
    "        temp[1] = 0 # arrived\n",
    "    \n",
    "    for i in temp:\n",
    "        if temp[i] == 1:\n",
    "            return i\n",
    "def find_numpy(Z):\n",
    "    Pnp = np.array(Z) # created numpy array\n",
    "    PU = np.unique(Pnp, return_counts = True)\n",
    "    PU = np.where(PU[1] == 1)[0][0]\n",
    "    return PU[0][PUi]"
   ]
  },
  {
   "cell_type": "code",
   "execution_count": null,
   "metadata": {},
   "outputs": [],
   "source": []
  }
 ],
 "metadata": {
  "kernelspec": {
   "display_name": "Python 3",
   "language": "python",
   "name": "python3"
  },
  "language_info": {
   "codemirror_mode": {
    "name": "ipython",
    "version": 3
   },
   "file_extension": ".py",
   "mimetype": "text/x-python",
   "name": "python",
   "nbconvert_exporter": "python",
   "pygments_lexer": "ipython3",
   "version": "3.8.5"
  }
 },
 "nbformat": 4,
 "nbformat_minor": 4
}
