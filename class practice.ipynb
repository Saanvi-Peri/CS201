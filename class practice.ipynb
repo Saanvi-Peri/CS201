{
 "cells": [
  {
   "cell_type": "code",
   "execution_count": null,
   "metadata": {},
   "outputs": [],
   "source": [
    "#classes should always start with CAPITALS\n",
    "#use class name and then paranthesis to create an object(just like function) \n",
    "#ex: cls X : X()\n",
    "#an object is a dictionary\n",
    "\n",
    "#self is the object"
   ]
  },
  {
   "cell_type": "code",
   "execution_count": 10,
   "metadata": {},
   "outputs": [
    {
     "name": "stdout",
     "output_type": "stream",
     "text": [
      "line 2\n",
      "line 16 1\n",
      "line 17 1\n",
      "line 1\n",
      "line 4\n",
      "line 5\n",
      "line 16 2\n",
      "line 17 2\n",
      "line 1\n"
     ]
    }
   ],
   "source": [
    "def foo(p):\n",
    "    print(\"line 16\", p)\n",
    "    print(\"line 17\", p)\n",
    "    print(\"line 1\")\n",
    "\n",
    "print(\"line 2\")\n",
    "foo(1)\n",
    "print(\"line 4\")\n",
    "print(\"line 5\")\n",
    "foo(2)\n",
    "\n",
    "\n",
    "\n",
    "\n",
    "\n",
    "\n"
   ]
  },
  {
   "cell_type": "code",
   "execution_count": 39,
   "metadata": {},
   "outputs": [
    {
     "name": "stdout",
     "output_type": "stream",
     "text": [
      "<__main__.C object at 0x7c1e60087c70>\n",
      "{'x': 23}\n",
      "<__main__.C object at 0x7c1e6008e430>\n",
      "{'x': 23}\n",
      "<__main__.C object at 0x7c1e60087c70> lulu 27\n",
      "<__main__.C object at 0x7c1e60087c70> lulu 27\n",
      "fufu 27\n",
      "<__main__.C object at 0x7c1e60087c70>\n",
      "<__main__.C object at 0x7c1e60087c70>\n",
      "<__main__.C object at 0x7c1e60087c70>\n"
     ]
    }
   ],
   "source": [
    "class C:\n",
    "    def __init__(self):\n",
    "        self.x = 23\n",
    "        print(self)\n",
    "        print(vars(self))\n",
    "        pass\n",
    "    \n",
    "    def fool(self, k):\n",
    "        print(self, \"lulu\", k)\n",
    "\n",
    "    #@staticmethod\n",
    "    def goo(self, k):\n",
    "        print(\"fufu\", k)\n",
    "\n",
    "class H:\n",
    "    #static member variables\n",
    "    c1 = C()\n",
    "    #print(c1)\n",
    "    c2 = C()\n",
    "    #print(c2)\n",
    "    C.fool(c1,27)\n",
    "    c1.fool(27)\n",
    "    c2.goo(27)\n",
    "\n",
    "print(H.c1)\n",
    "\n",
    "h1 = H()\n",
    "h2 = H()\n",
    "\n",
    "print(h1.c1)\n",
    "print(h2.c1)\n",
    "    \n"
   ]
  },
  {
   "cell_type": "code",
   "execution_count": null,
   "metadata": {},
   "outputs": [],
   "source": []
  }
 ],
 "metadata": {
  "kernelspec": {
   "display_name": "Python 3",
   "language": "python",
   "name": "python3"
  },
  "language_info": {
   "codemirror_mode": {
    "name": "ipython",
    "version": 3
   },
   "file_extension": ".py",
   "mimetype": "text/x-python",
   "name": "python",
   "nbconvert_exporter": "python",
   "pygments_lexer": "ipython3",
   "version": "3.8.5"
  }
 },
 "nbformat": 4,
 "nbformat_minor": 4
}
