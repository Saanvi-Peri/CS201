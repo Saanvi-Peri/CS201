{
 "cells": [
  {
   "cell_type": "code",
   "execution_count": 10,
   "metadata": {},
   "outputs": [
    {
     "name": "stdout",
     "output_type": "stream",
     "text": [
      "[[0 1 0 0 1 0 3 5]\n",
      " [1 1 0 0 1 0 6 8]\n",
      " [2 1 0 0 0 0 8 3]\n",
      " [3 1 0 0 1 0 2 0]\n",
      " [4 1 0 0 1 0 4 4]\n",
      " [5 1 0 0 0 0 0 6]\n",
      " [6 1 0 0 1 0 5 1]\n",
      " [7 0 1 0 1 7 9 9]\n",
      " [8 1 0 0 1 0 1 2]\n",
      " [9 1 0 0 1 0 7 7]]\n"
     ]
    }
   ],
   "source": [
    "import numpy as np\n",
    "\n",
    "N = 10\n",
    "pr_inf  = .1\n",
    "pr_mask = .8\n",
    "days = 7\n",
    "\n",
    "A = np.zeros((N,8), dtype = np.int32)\n",
    "\n",
    "A[:,0] = np.arange(N)\n",
    "A[:,1] = 1\n",
    "A[:,2] = np.random.binomial(1,pr_inf,N)\n",
    "A[A[:,2]==1,1] = 0 #no longer sus bc inf\n",
    "\n",
    "#A[:,1] = A[:,1] - A[:,2]\n",
    "\n",
    "A[:,4] = np.random.binomial(1,pr_mask,N)\n",
    "\n",
    "#A[:,5] = A[:,2]*days\n",
    "A[A[:,2]==1,5] = 7\n",
    "\n",
    "A[:,6] = np.random.choice(N,N,replace = False)\n",
    "\n",
    "A[A[:,6],7] = A[:,0]\n",
    "\n",
    "print(A)"
   ]
  },
  {
   "cell_type": "code",
   "execution_count": null,
   "metadata": {},
   "outputs": [],
   "source": []
  }
 ],
 "metadata": {
  "kernelspec": {
   "display_name": "Python 3",
   "language": "python",
   "name": "python3"
  },
  "language_info": {
   "codemirror_mode": {
    "name": "ipython",
    "version": 3
   },
   "file_extension": ".py",
   "mimetype": "text/x-python",
   "name": "python",
   "nbconvert_exporter": "python",
   "pygments_lexer": "ipython3",
   "version": "3.8.5"
  }
 },
 "nbformat": 4,
 "nbformat_minor": 4
}
