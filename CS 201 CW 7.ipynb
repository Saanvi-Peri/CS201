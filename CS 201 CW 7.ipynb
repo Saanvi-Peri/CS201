{
 "cells": [
  {
   "cell_type": "code",
   "execution_count": 5,
   "metadata": {},
   "outputs": [
    {
     "ename": "ModuleNotFoundError",
     "evalue": "No module named 'networkx'",
     "output_type": "error",
     "traceback": [
      "\u001b[0;31m\u001b[0m",
      "\u001b[0;31mModuleNotFoundError\u001b[0mTraceback (most recent call last)",
      "\u001b[0;32m<ipython-input-5-206ff81a918b>\u001b[0m in \u001b[0;36m<module>\u001b[0;34m\u001b[0m\n\u001b[0;32m----> 1\u001b[0;31m \u001b[0;32mimport\u001b[0m \u001b[0mnetworkx\u001b[0m \u001b[0;32mas\u001b[0m \u001b[0mnx\u001b[0m\u001b[0;34m\u001b[0m\u001b[0;34m\u001b[0m\u001b[0m\n\u001b[0m\u001b[1;32m      2\u001b[0m \u001b[0mget_ipython\u001b[0m\u001b[0;34m(\u001b[0m\u001b[0;34m)\u001b[0m\u001b[0;34m.\u001b[0m\u001b[0mrun_line_magic\u001b[0m\u001b[0;34m(\u001b[0m\u001b[0;34m'matplotlib'\u001b[0m\u001b[0;34m,\u001b[0m \u001b[0;34m'inline'\u001b[0m\u001b[0;34m)\u001b[0m\u001b[0;34m\u001b[0m\u001b[0;34m\u001b[0m\u001b[0m\n\u001b[1;32m      3\u001b[0m \u001b[0;34m\u001b[0m\u001b[0m\n\u001b[1;32m      4\u001b[0m \u001b[0;32mclass\u001b[0m \u001b[0mAgent\u001b[0m\u001b[0;34m:\u001b[0m\u001b[0;34m\u001b[0m\u001b[0;34m\u001b[0m\u001b[0m\n\u001b[1;32m      5\u001b[0m \u001b[0;34m\u001b[0m\u001b[0m\n",
      "\u001b[0;31mModuleNotFoundError\u001b[0m: No module named 'networkx'"
     ]
    }
   ],
   "source": [
    "import networkx as nx\n",
    "%matplotlib inline\n",
    "\n",
    "class Agent:\n",
    "    \n",
    "    #class attributes\n",
    "    num_sus = 0\n",
    "    num_inf = 0\n",
    "    num_rec = 0\n",
    "    def __init__(self, num, grid_node):\n",
    "        #instance/object attributes\n",
    "        self.num_id = num\n",
    "        self.grid_id = grid_node\n",
    "        \n",
    "        self.sus = 1\n",
    "        self.inf = 0\n",
    "        self.rec = 0\n",
    "        \n",
    "        agent.num_sus += 1\n",
    "        \n",
    "        self.inf = 0\n",
    "        self.inf_t1 = 0\n",
    "        self.day_sick = 0\n",
    "        \n",
    "        self.rec = 0\n",
    "        \n",
    "    def getsick(self):\n",
    "        \n",
    "        self.sus = 0\n",
    "        Agent.num_sus -= 1\n",
    "        \n",
    "        self.inf = 1\n",
    "        Agent.num_inf += 1\n",
    "        \n",
    "    def recover(self):\n",
    "        \n",
    "        self.inf = 0\n",
    "        Agent.num_inf -= 1\n",
    "        \n",
    "        self.rec = 1\n",
    "        Agent.num_rec += 1 \n",
    "\n",
    "T = 21 #number of days/time periods\n",
    "\n",
    "grid_side = 10 #one dimension of the grid\n",
    "N = grid_side = grid_side # total agents\n",
    "\n",
    "pr_sick = 0.3 #probablity of getting sick susceptable agent meets infected agent\n",
    "time_recov = 14 #days to recover\n",
    "\n",
    "G = nx.grid_2d_graph(grid_size, grid_side, periodic = False)\n",
    "\n",
    "A = [] #list of all agents\n",
    "\n",
    "G_nodes = list(G.nodes)\n",
    "for i in range(N):\n",
    "    A.append(Agent(i, G_nodes[i]))\n",
    "    \n",
    "#for i in range(N):\n",
    "    #A.append(Agent(i, (G.nodes)[i]))\n",
    "    \n",
    "GA_dict = () #dictionary (grid+id:agent_id)\n",
    "\n",
    "for i in A:\n",
    "    GA_dict[i.grid_id] = i.num_id"
   ]
  },
  {
   "cell_type": "code",
   "execution_count": null,
   "metadata": {},
   "outputs": [],
   "source": [
    "def test_getsick(self):\n",
    "        pass"
   ]
  }
 ],
 "metadata": {
  "kernelspec": {
   "display_name": "Python 3",
   "language": "python",
   "name": "python3"
  },
  "language_info": {
   "codemirror_mode": {
    "name": "ipython",
    "version": 3
   },
   "file_extension": ".py",
   "mimetype": "text/x-python",
   "name": "python",
   "nbconvert_exporter": "python",
   "pygments_lexer": "ipython3",
   "version": "3.8.5"
  }
 },
 "nbformat": 4,
 "nbformat_minor": 4
}
