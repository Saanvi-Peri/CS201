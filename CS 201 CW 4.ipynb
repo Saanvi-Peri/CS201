{
 "cells": [
  {
   "cell_type": "code",
   "execution_count": 15,
   "metadata": {},
   "outputs": [
    {
     "name": "stdout",
     "output_type": "stream",
     "text": [
      "5\n",
      "36\n",
      "<class 'int'>\n",
      "<class 'function'>\n",
      "Locations of objects:\n",
      "98614596447616\n",
      "135105109454912\n",
      "\n",
      "User defined classes:\n"
     ]
    },
    {
     "ename": "AttributeError",
     "evalue": "'animal' object has no attribute 'age'",
     "output_type": "error",
     "traceback": [
      "\u001b[0;31m---------------------------------------------------------------------------\u001b[0m",
      "\u001b[0;31mAttributeError\u001b[0m                            Traceback (most recent call last)",
      "\u001b[0;32m<ipython-input-15-f48397914cb1>\u001b[0m in \u001b[0;36m<module>\u001b[0;34m\u001b[0m\n\u001b[1;32m     58\u001b[0m         \u001b[0mself\u001b[0m\u001b[0;34m.\u001b[0m\u001b[0mage\u001b[0m \u001b[0;34m+=\u001b[0m \u001b[0;36m1\u001b[0m\u001b[0;34m\u001b[0m\u001b[0;34m\u001b[0m\u001b[0m\n\u001b[1;32m     59\u001b[0m \u001b[0;34m\u001b[0m\u001b[0m\n\u001b[0;32m---> 60\u001b[0;31m \u001b[0manimal1\u001b[0m \u001b[0;34m=\u001b[0m \u001b[0manimal\u001b[0m\u001b[0;34m(\u001b[0m\u001b[0;34m\"Garden snake\"\u001b[0m\u001b[0;34m,\u001b[0m \u001b[0;34m\"Reptile\"\u001b[0m\u001b[0;34m,\u001b[0m \u001b[0;36m2\u001b[0m\u001b[0;34m)\u001b[0m\u001b[0;34m\u001b[0m\u001b[0;34m\u001b[0m\u001b[0m\n\u001b[0m\u001b[1;32m     61\u001b[0m \u001b[0mprint\u001b[0m\u001b[0;34m(\u001b[0m\u001b[0mid\u001b[0m\u001b[0;34m(\u001b[0m\u001b[0manimal1\u001b[0m\u001b[0;34m)\u001b[0m\u001b[0;34m)\u001b[0m\u001b[0;34m\u001b[0m\u001b[0;34m\u001b[0m\u001b[0m\n\u001b[1;32m     62\u001b[0m \u001b[0mprint\u001b[0m\u001b[0;34m(\u001b[0m\u001b[0manimal1\u001b[0m\u001b[0;34m.\u001b[0m\u001b[0mname\u001b[0m\u001b[0;34m)\u001b[0m\u001b[0;34m\u001b[0m\u001b[0;34m\u001b[0m\u001b[0m\n",
      "\u001b[0;32m<ipython-input-15-f48397914cb1>\u001b[0m in \u001b[0;36m__init__\u001b[0;34m(self, name, family, age)\u001b[0m\n\u001b[1;32m     47\u001b[0m         \u001b[0mself\u001b[0m\u001b[0;34m.\u001b[0m\u001b[0mname\u001b[0m \u001b[0;34m=\u001b[0m \u001b[0mname\u001b[0m\u001b[0;34m\u001b[0m\u001b[0;34m\u001b[0m\u001b[0m\n\u001b[1;32m     48\u001b[0m         \u001b[0mself\u001b[0m\u001b[0;34m.\u001b[0m\u001b[0mfamily\u001b[0m \u001b[0;34m=\u001b[0m \u001b[0mfamily\u001b[0m\u001b[0;34m\u001b[0m\u001b[0;34m\u001b[0m\u001b[0m\n\u001b[0;32m---> 49\u001b[0;31m         \u001b[0mself\u001b[0m\u001b[0;34m.\u001b[0m\u001b[0mage\u001b[0m \u001b[0;34m+=\u001b[0m \u001b[0;36m1\u001b[0m\u001b[0;34m\u001b[0m\u001b[0;34m\u001b[0m\u001b[0m\n\u001b[0m\u001b[1;32m     50\u001b[0m \u001b[0;34m\u001b[0m\u001b[0m\n\u001b[1;32m     51\u001b[0m         \u001b[0;31m#self.aname = name\u001b[0m\u001b[0;34m\u001b[0m\u001b[0;34m\u001b[0m\u001b[0;34m\u001b[0m\u001b[0m\n",
      "\u001b[0;31mAttributeError\u001b[0m: 'animal' object has no attribute 'age'"
     ]
    }
   ],
   "source": [
    "# recap of objects, user defined functions, and classes\n",
    "\n",
    "x = 5\n",
    "\n",
    "# 5 is an object\n",
    "# x is a reference to this object\n",
    "\n",
    "# created a new object 7\n",
    "# changed reference: x is now pointing at 7\n",
    "\n",
    "# 5 no longer has a reference, it is useless and occupies memory\n",
    "# python will automatically remove it, aka \"garbage collection\"\n",
    "\n",
    "def square_even(x):\n",
    "    if x % 2 == 0:\n",
    "        result = x**2\n",
    "    else:\n",
    "        result = x\n",
    "    return result\n",
    "\n",
    "print(square_even(5))\n",
    "print(square_even(6))\n",
    "\n",
    "# reminder: all variables inside a function are local\n",
    "#you can set up global variables using 'global'\n",
    "# please avoid this practice!\n",
    "\n",
    "# to see what kind of object\n",
    "print(type(x))\n",
    "print(type(square_even))\n",
    "\n",
    "print(\"Locations of objects:\")\n",
    "print(id(x))\n",
    "print(id(square_even))\n",
    "\n",
    "print()\n",
    "print(\"User defined classes:\")\n",
    "\n",
    "# objects from a class have 2 basic things:\n",
    "# 1) attributes (describe objects)\n",
    "# 2) methods (change attributes, use object)\n",
    "\n",
    "#parent - child classes or class - subclass\n",
    "\n",
    "class animal:\n",
    "    def __init__(self, name, family, age):\n",
    "        self.name = name\n",
    "        self.family = family\n",
    "        self.age += 1\n",
    "        \n",
    "        #self.aname = name\n",
    "        #self.afamily = family\n",
    "\n",
    "    def describe(self):\n",
    "        print(f\"The animal {self.name} is from the family of {self.family}\")\n",
    "        print(f\"The animal is {self.age} years old\")\n",
    "    def update_age(self):\n",
    "        self.age += 1\n",
    "        \n",
    "animal1 = animal(\"Garden snake\", \"Reptile\", 2)\n",
    "print(id(animal1))\n",
    "print(animal1.name)\n",
    "print(animal1.family)\n",
    "animal1.describe()\n",
    "animal1.update_age\n",
    "animal1.describe"
   ]
  },
  {
   "cell_type": "code",
   "execution_count": null,
   "metadata": {},
   "outputs": [],
   "source": [
    "sel"
   ]
  }
 ],
 "metadata": {
  "kernelspec": {
   "display_name": "Python 3",
   "language": "python",
   "name": "python3"
  },
  "language_info": {
   "codemirror_mode": {
    "name": "ipython",
    "version": 3
   },
   "file_extension": ".py",
   "mimetype": "text/x-python",
   "name": "python",
   "nbconvert_exporter": "python",
   "pygments_lexer": "ipython3",
   "version": "3.8.5"
  }
 },
 "nbformat": 4,
 "nbformat_minor": 4
}
