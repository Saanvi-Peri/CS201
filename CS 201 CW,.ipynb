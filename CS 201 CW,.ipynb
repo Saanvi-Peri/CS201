{
 "cells": [
  {
   "cell_type": "code",
   "execution_count": 64,
   "metadata": {},
   "outputs": [],
   "source": [
    "import numpy as np"
   ]
  },
  {
   "cell_type": "code",
   "execution_count": 65,
   "metadata": {},
   "outputs": [
    {
     "name": "stdout",
     "output_type": "stream",
     "text": [
      "[[5 0]\n",
      " [7 1]]\n"
     ]
    }
   ],
   "source": [
    "print(np.array([[5,0], [7,1]]))"
   ]
  },
  {
   "cell_type": "code",
   "execution_count": 66,
   "metadata": {},
   "outputs": [
    {
     "name": "stdout",
     "output_type": "stream",
     "text": [
      "[[1 1 1 1]\n",
      " [1 1 1 1]\n",
      " [1 1 1 1]]\n"
     ]
    }
   ],
   "source": [
    "arr = np.ones(shape=(3,4),dtype = 'int8')\n",
    "\n",
    "print(arr)"
   ]
  },
  {
   "cell_type": "code",
   "execution_count": 67,
   "metadata": {},
   "outputs": [
    {
     "name": "stdout",
     "output_type": "stream",
     "text": [
      "[[4 7 7 7 7]\n",
      " [4 8 6 4 5]\n",
      " [8 6 4 4 4]\n",
      " [4 4 6 6 8]\n",
      " [7 5 4 6 6]]\n",
      "6\n"
     ]
    }
   ],
   "source": [
    "from numpy import random\n",
    "arr = random.randint(4, 9, size = (5,5))\n",
    "print(arr)\n",
    "print(arr[3,2])"
   ]
  },
  {
   "cell_type": "code",
   "execution_count": 74,
   "metadata": {},
   "outputs": [
    {
     "name": "stdout",
     "output_type": "stream",
     "text": [
      "[[0.1 0.1 0.2 0.2 0.2]\n",
      " [0.2 0.1 0.2 0.1 0.2]\n",
      " [0.2 0.1 0.1 0.2 0.1]\n",
      " [0.2 0.2 0.1 0.1 0.1]\n",
      " [0.2 0.1 0.1 0.2 0.2]]\n",
      "[2 2 1 1 1]\n",
      "2\n",
      "2\n",
      "1\n",
      "1\n",
      "1\n"
     ]
    }
   ],
   "source": [
    "arr = random.randint(1, 3, size = (5,5))\n",
    "print(arr/10)\n",
    "print(arr[3])\n",
    "for i in arr[3]:\n",
    "    print(i)"
   ]
  },
  {
   "cell_type": "code",
   "execution_count": 92,
   "metadata": {},
   "outputs": [
    {
     "name": "stdout",
     "output_type": "stream",
     "text": [
      "[[1 2 3]\n",
      " [4 5 6]\n",
      " [7 8 9]]\n",
      "45\n",
      "[12 15 18]\n",
      "[ 6 15 24]\n",
      "5.0\n",
      "[4. 5. 6.]\n",
      "[2. 5. 8.]\n"
     ]
    }
   ],
   "source": [
    "arr = np.arange(1,10)\n",
    "arr = arr.reshape((3,3))\n",
    "print(arr)\n",
    "print(np.sum(arr))\n",
    "print(np.sum(arr,0))\n",
    "print(np.sum(arr,1))\n",
    "\n",
    "print(np.mean(arr))\n",
    "print(np.mean(arr,0))\n",
    "print(np.mean(arr,1))"
   ]
  }
 ],
 "metadata": {
  "kernelspec": {
   "display_name": "Python 3",
   "language": "python",
   "name": "python3"
  },
  "language_info": {
   "codemirror_mode": {
    "name": "ipython",
    "version": 3
   },
   "file_extension": ".py",
   "mimetype": "text/x-python",
   "name": "python",
   "nbconvert_exporter": "python",
   "pygments_lexer": "ipython3",
   "version": "3.8.5"
  }
 },
 "nbformat": 4,
 "nbformat_minor": 4
}
