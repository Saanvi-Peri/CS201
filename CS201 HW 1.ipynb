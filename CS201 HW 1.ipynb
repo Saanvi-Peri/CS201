{
 "cells": [
  {
   "cell_type": "code",
   "execution_count": 11,
   "metadata": {},
   "outputs": [
    {
     "name": "stdout",
     "output_type": "stream",
     "text": [
      "[1, 2, 3, 4, 5, 6, 7, 8]\n",
      "The number of elements in X is 8\n"
     ]
    }
   ],
   "source": [
    "Y = [i for i in range(1,9)]\n",
    "print(Y)\n",
    "\n",
    "X = [\"a\",\"b\",\"c\",\"d\",\"e\",\"f\",\"g\",\"h\"]\n",
    "print(f\"The number of elements in X is {len(X)}\")"
   ]
  },
  {
   "cell_type": "code",
   "execution_count": 12,
   "metadata": {},
   "outputs": [
    {
     "name": "stdout",
     "output_type": "stream",
     "text": [
      "[['a1', 'b1', 'c1', 'd1', 'e1', 'f1', 'g1', 'h1'], ['a2', 'b2', 'c2', 'd2', 'e2', 'f2', 'g2', 'h2'], ['a3', 'b3', 'c3', 'd3', 'e3', 'f3', 'g3', 'h3'], ['a4', 'b4', 'c4', 'd4', 'e4', 'f4', 'g4', 'h4'], ['a5', 'b5', 'c5', 'd5', 'e5', 'f5', 'g5', 'h5'], ['a6', 'b6', 'c6', 'd6', 'e6', 'f6', 'g6', 'h6'], ['a7', 'b7', 'c7', 'd7', 'e7', 'f7', 'g7', 'h7'], ['a8', 'b8', 'c8', 'd8', 'e8', 'f8', 'g8', 'h8']]\n",
      "a1\n",
      "b2\n"
     ]
    }
   ],
   "source": [
    "Y = ['1', '2', '3', '4', '5', '6', '7', '8']\n",
    "\n",
    "X = [\"a\", \"b\", \"c\",\"d\",\"e\",\"f\",\"g\",\"h\"]\n",
    "\n",
    "CB = [[r+c for r in X] for c in Y]\n",
    "            \n",
    "print(CB)\n",
    "print(CB[0][0])\n",
    "print(CB[1][1])"
   ]
  },
  {
   "cell_type": "code",
   "execution_count": 17,
   "metadata": {},
   "outputs": [
    {
     "name": "stdout",
     "output_type": "stream",
     "text": [
      "{(0, 0): 'a1', (0, 1): 'b1', (0, 2): 'c1', (0, 3): 'd1', (0, 4): 'e1', (0, 5): 'f1', (0, 6): 'g1', (0, 7): 'h1', (1, 0): 'a2', (1, 1): 'b2', (1, 2): 'c2', (1, 3): 'd2', (1, 4): 'e2', (1, 5): 'f2', (1, 6): 'g2', (1, 7): 'h2', (2, 0): 'a3', (2, 1): 'b3', (2, 2): 'c3', (2, 3): 'd3', (2, 4): 'e3', (2, 5): 'f3', (2, 6): 'g3', (2, 7): 'h3', (3, 0): 'a4', (3, 1): 'b4', (3, 2): 'c4', (3, 3): 'd4', (3, 4): 'e4', (3, 5): 'f4', (3, 6): 'g4', (3, 7): 'h4', (4, 0): 'a5', (4, 1): 'b5', (4, 2): 'c5', (4, 3): 'd5', (4, 4): 'e5', (4, 5): 'f5', (4, 6): 'g5', (4, 7): 'h5', (5, 0): 'a6', (5, 1): 'b6', (5, 2): 'c6', (5, 3): 'd6', (5, 4): 'e6', (5, 5): 'f6', (5, 6): 'g6', (5, 7): 'h6', (6, 0): 'a7', (6, 1): 'b7', (6, 2): 'c7', (6, 3): 'd7', (6, 4): 'e7', (6, 5): 'f7', (6, 6): 'g7', (6, 7): 'h7', (7, 0): 'a8', (7, 1): 'b8', (7, 2): 'c8', (7, 3): 'd8', (7, 4): 'e8', (7, 5): 'f8', (7, 6): 'g8', (7, 7): 'h8'}\n"
     ]
    }
   ],
   "source": [
    "CD1 = {}\n",
    "\n",
    "for row in range(8):\n",
    "    for column in range(8):\n",
    "        CD1[(row,column)] = CB[row][column]\n",
    "print(CD1)"
   ]
  }
 ],
 "metadata": {
  "kernelspec": {
   "display_name": "Python 3",
   "language": "python",
   "name": "python3"
  },
  "language_info": {
   "codemirror_mode": {
    "name": "ipython",
    "version": 3
   },
   "file_extension": ".py",
   "mimetype": "text/x-python",
   "name": "python",
   "nbconvert_exporter": "python",
   "pygments_lexer": "ipython3",
   "version": "3.8.5"
  }
 },
 "nbformat": 4,
 "nbformat_minor": 4
}
