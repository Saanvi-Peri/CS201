{
 "cells": [
  {
   "cell_type": "code",
   "execution_count": 34,
   "metadata": {},
   "outputs": [
    {
     "name": "stdout",
     "output_type": "stream",
     "text": [
      "[0, 3, 2, 0, 1, 2, 3]\n",
      "Counter({1: 2, 2: 2, 3: 1})\n",
      "3\n"
     ]
    }
   ],
   "source": [
    "from random import sample\n",
    "from collections import Counter\n",
    "def generate_IDs(lst_size):\n",
    "    x = [x for x in range(0,int(lst_size))]\n",
    "    #print(lst)\n",
    "    return sample(x, lst_size)\n",
    "    \n",
    "def generate_dep_arr(lst_size):\n",
    "    y = [x for x in range(0,int(lst_size))] + [x for x in range(0,int(lst_size))]\n",
    "    return sample(y, 2*lst_size - 1)\n",
    "\n",
    "def find_missing(y):\n",
    "    c = Counter(y)\n",
    "    print(c)\n",
    "    for k,v in c.items():\n",
    "        if v == 1:\n",
    "            return k\n",
    "def test_generate_IDs():\n",
    "    assert(len(generate_IDs(3)) == 3)\n",
    "    assert(len(generate_IDs(1000)) == 1000)\n",
    "    \n",
    "def test_generate_dep_arr():\n",
    "    print(generate_dep_arr(4))\n",
    "    \n",
    "def test_find_missing():\n",
    "    print(find_missing([1,2,3,1,2]))\n",
    "    \n",
    "def task1():\n",
    "    x = generate_IDs(1000)\n",
    "    y = generate_dep_arr(1000)\n",
    "    print(find_missing(y))\n",
    "    \n",
    "def test():\n",
    "    test_generate_IDs()\n",
    "    test_generate_dep_arr()\n",
    "    test_find_missing()\n",
    "    \n",
    "test()\n",
    "#task1()\n",
    "\n",
    "#question 4: I used a dictionary to solve question 2 by using the Counter method so I couldn't compare"
   ]
  }
 ],
 "metadata": {
  "kernelspec": {
   "display_name": "Python 3",
   "language": "python",
   "name": "python3"
  },
  "language_info": {
   "codemirror_mode": {
    "name": "ipython",
    "version": 3
   },
   "file_extension": ".py",
   "mimetype": "text/x-python",
   "name": "python",
   "nbconvert_exporter": "python",
   "pygments_lexer": "ipython3",
   "version": "3.8.5"
  }
 },
 "nbformat": 4,
 "nbformat_minor": 4
}
