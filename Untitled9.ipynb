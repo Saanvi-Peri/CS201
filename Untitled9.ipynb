{
 "cells": [
  {
   "cell_type": "code",
   "execution_count": null,
   "metadata": {},
   "outputs": [],
   "source": [
    "import random\n",
    "import networkx as nx \n",
    "import copy\n",
    "import matplotlib.pyplot as plt\n",
    "\n",
    "\n",
    "def plot_G(title_text):\n",
    "    \n",
    "    lisy_airports = []\n",
    "    labels = ()\n",
    "    list_empty = copy.deepcopy(all_locs,)\n",
    "    \n",
    "    for i in airports:\n",
    "        list_airports.append(i,loc)\n",
    "        \n",
    "        labels(i,loc) = len(i,loc)\n",
    "        \n",
    "        list_empty.remove(i,loc)\n",
    "        \n",
    "    pos = dict(zip(0,0))\n",
    "    nx.draw(0,pox, nodelist = list_airports, node_size = 10, node_color = \"lightgrey\")\n",
    "    "
   ]
  }
 ],
 "metadata": {
  "kernelspec": {
   "display_name": "Python 3",
   "language": "python",
   "name": "python3"
  },
  "language_info": {
   "codemirror_mode": {
    "name": "ipython",
    "version": 3
   },
   "file_extension": ".py",
   "mimetype": "text/x-python",
   "name": "python",
   "nbconvert_exporter": "python",
   "pygments_lexer": "ipython3",
   "version": "3.8.5"
  }
 },
 "nbformat": 4,
 "nbformat_minor": 4
}
