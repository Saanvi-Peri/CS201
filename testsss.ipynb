{
 "cells": [
  {
   "cell_type": "code",
   "execution_count": 1,
   "metadata": {},
   "outputs": [
    {
     "name": "stdout",
     "output_type": "stream",
     "text": [
      "10 [1, 3, 6]\n",
      "0 []\n",
      "1 [1]\n",
      "31 [1, 10, 20]\n",
      "31\n"
     ]
    }
   ],
   "source": [
    "accounts1 = [[1,2,3],[3,2,1]]\n",
    "accounts2 = []\n",
    "accounts3 = [[],[]]\n",
    "accounts4 = [[1,10,20],[3,2]]\n",
    "\n",
    "\n",
    "def pa_row(acc,i):\n",
    "    print( acc[i],acc[i+1] )\n",
    "\n",
    "def pa_row_sum(acc,i):\n",
    "    s = sum_array(acc[i])\n",
    "    print(s)\n",
    "    return s\n",
    "\n",
    "\n",
    "def sum_array(arr):\n",
    "    s = 0\n",
    "    \n",
    "    for i in range(0,len(arr)):\n",
    "       s += arr[i]\n",
    "    print(s,arr)    \n",
    "    return s\n",
    "        \n",
    "    \n",
    "    \n",
    "def main():\n",
    "    pass\n",
    "    \n",
    "def test_sum_array():\n",
    "    assert(sum_array([1, 3, 6])  == 10)\n",
    "    assert(sum_array([])  == 0)    \n",
    "    assert(sum_array([1])  == 1)\n",
    "    \n",
    "def test_pa_row_sum():\n",
    "    assert(pa_row_sum(accounts4,0) == 31)\n",
    "    \n",
    "    \n",
    "def tests():\n",
    "    test_sum_array()\n",
    "    \n",
    "    test_pa_row_sum()\n",
    "\n",
    "tests()\n",
    "#main()"
   ]
  },
  {
   "cell_type": "code",
   "execution_count": null,
   "metadata": {},
   "outputs": [],
   "source": []
  }
 ],
 "metadata": {
  "kernelspec": {
   "display_name": "Python 3",
   "language": "python",
   "name": "python3"
  },
  "language_info": {
   "codemirror_mode": {
    "name": "ipython",
    "version": 3
   },
   "file_extension": ".py",
   "mimetype": "text/x-python",
   "name": "python",
   "nbconvert_exporter": "python",
   "pygments_lexer": "ipython3",
   "version": "3.8.5"
  }
 },
 "nbformat": 4,
 "nbformat_minor": 4
}
