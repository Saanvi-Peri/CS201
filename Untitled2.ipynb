{
 "cells": [
  {
   "cell_type": "code",
   "execution_count": 1,
   "metadata": {},
   "outputs": [],
   "source": [
    "import random\n",
    "\n",
    "def(pick_num):\n",
    "    temp = random.randint(0,99)\n",
    "    if temp < 40:\n",
    "        pick = 10\n",
    "    elif temp > 40 and temp < 70:\n",
    "        pick = 9\n",
    "    elif temp >= 70 and temp < 90:\n",
    "        pick = 8\n",
    "    else:\n",
    "        pick 7\n",
    "\n",
    "mypicks = []\n",
    "for i in range(100):\n",
    "    mypicks.append(pick_num())\n",
    "\n",
    "print(my_picks)\n",
    "for i in range(1,11):\n",
    "    print(f\"{i}: {my_pick.count(i)}\")"
   ]
  },
  {
   "cell_type": "code",
   "execution_count": 3,
   "metadata": {},
   "outputs": [
    {
     "ename": "SyntaxError",
     "evalue": "invalid syntax (<ipython-input-3-156b0dde635d>, line 1)",
     "output_type": "error",
     "traceback": [
      "\u001b[0;36m  File \u001b[0;32m\"<ipython-input-3-156b0dde635d>\"\u001b[0;36m, line \u001b[0;32m1\u001b[0m\n\u001b[0;31m    weightages:\u001b[0m\n\u001b[0m               ^\u001b[0m\n\u001b[0;31mSyntaxError\u001b[0m\u001b[0;31m:\u001b[0m invalid syntax\n"
     ]
    }
   ],
   "source": [
    "weightages:\n",
    "1:1/55\n",
    "2:2/55\n",
    "3:3/55\n",
    "4:4/55\n",
    "5:5/55\n",
    "6:6/55\n",
    "7:7/55\n",
    "8:8/55\n",
    "9:9/55\n",
    "10:10/55\n",
    "\n",
    "\n",
    "\n",
    "\n"
   ]
  }
 ],
 "metadata": {
  "kernelspec": {
   "display_name": "Python 3",
   "language": "python",
   "name": "python3"
  },
  "language_info": {
   "codemirror_mode": {
    "name": "ipython",
    "version": 3
   },
   "file_extension": ".py",
   "mimetype": "text/x-python",
   "name": "python",
   "nbconvert_exporter": "python",
   "pygments_lexer": "ipython3",
   "version": "3.8.5"
  }
 },
 "nbformat": 4,
 "nbformat_minor": 4
}
