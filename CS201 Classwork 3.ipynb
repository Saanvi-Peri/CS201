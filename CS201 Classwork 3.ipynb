{
 "cells": [
  {
   "cell_type": "code",
   "execution_count": 17,
   "metadata": {},
   "outputs": [
    {
     "name": "stdout",
     "output_type": "stream",
     "text": [
      "['L', 'e', 't', \"'\", 's', ' ', 'd', 'i', 's', 'c', 'u', 's', 's', ' ', 'c', 'o', 'm', 'p', 'r', 'e', 'h', 'e', 'n', 's', 'i', 'o', 'n', 's', ' ', 'i', 'n', ' ', 'P', 'y', 't', 'h', 'o', 'n']\n",
      "______________________________________________________________________________________________________________\n",
      "['L', 'e', 't', \"'\", 's', ' ', 'd', 'i', 's', 'c', 'u', 's', 's', ' ', 'c', 'o', 'm', 'p', 'r', 'e', 'h', 'e', 'n', 's', 'i', 'o', 'n', 's', ' ', 'i', 'n', ' ', 'P', 'y', 't', 'h', 'o', 'n']\n",
      "['even', 'odd', 'even', 'odd', 'even', 'odd', 'even', 'odd', 'even', 'odd', 'even', 'odd', 'even', 'odd', 'even', 'odd', 'even', 'odd', 'even', 'odd', 'even', 'odd', 'even', 'odd', 'even', 'odd', 'even', 'odd', 'even', 'odd', 'even', 'odd', 'even', 'odd', 'even', 'odd', 'even', 'odd', 'even', 'odd', 'even', 'odd', 'even', 'odd', 'even', 'odd', 'even', 'odd', 'even', 'odd', 'even', 'odd', 'even', 'odd', 'even', 'odd', 'even', 'odd', 'even', 'odd', 'even', 'odd', 'even', 'odd', 'even', 'odd', 'even', 'odd', 'even', 'odd', 'even', 'odd', 'even', 'odd', 'even', 'odd', 'even', 'odd', 'even', 'odd', 'even', 'odd', 'even', 'odd', 'even', 'odd', 'even', 'odd', 'even', 'odd', 'even', 'odd', 'even', 'odd', 'even', 'odd', 'even', 'odd', 'even', 'odd']\n",
      "{'Dictionary': 10, 'comprehension': 13, 'is': 2, 'awesome': 7}\n",
      "{'Dictionary': 10, 'comprehension': 13, 'is': 2, 'awesome': 7}\n"
     ]
    }
   ],
   "source": [
    "sentence = \"Let's discuss comprehensions in Python\"\n",
    "chlist = []\n",
    "for i in sentence:\n",
    "    chlist.append(i)\n",
    "print(chlist)\n",
    "print(\"_\"*110)\n",
    "chlist2 = [i for i in sentence]\n",
    "print(chlist2)\n",
    "\n",
    "wlist = sentence.split()\n",
    "nums = list(range(100))\n",
    "nums2 = [i**2 for i in nums]\n",
    "nums2even = [i**2 for i in nums if i % 2 == 0]\n",
    "numssq = [i**2 if i % 2 == 0 else i**.5 for i in nums]\n",
    "\n",
    "\n",
    "numswords = [\"even\" if i % 2 == 0 else \"odd\" for i in nums]\n",
    "print(numswords)\n",
    "\n",
    "# tuple \"comprehension does not exist\"\n",
    "\n",
    "# use list, and then convert to tuple using tuple\n",
    "\n",
    "# dictionary comprehension\n",
    "sentence2 = \"Dictionary comprehension is awesome\"\n",
    "# create dict where each word is key and # of characters = value\n",
    "\n",
    "dict1 = {}\n",
    "wordslst = sentence2.split()\n",
    "for word in wordslst:\n",
    "    dict1[word] = len(word)\n",
    "    \n",
    "print(dict1)\n",
    "dict2 = {word:len(word) for word in wordslst}\n",
    "print(dict2)"
   ]
  }
 ],
 "metadata": {
  "kernelspec": {
   "display_name": "Python 3",
   "language": "python",
   "name": "python3"
  },
  "language_info": {
   "codemirror_mode": {
    "name": "ipython",
    "version": 3
   },
   "file_extension": ".py",
   "mimetype": "text/x-python",
   "name": "python",
   "nbconvert_exporter": "python",
   "pygments_lexer": "ipython3",
   "version": "3.8.5"
  }
 },
 "nbformat": 4,
 "nbformat_minor": 4
}
