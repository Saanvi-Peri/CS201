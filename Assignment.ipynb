{
 "cells": [
  {
   "cell_type": "code",
   "execution_count": 4,
   "metadata": {},
   "outputs": [],
   "source": [
    "number = 1\n",
    "while (number < 21 and number > 9):\n",
    "    print(f\"The square of {number} is {number*number}. The cube of {number} is {number*number*number}\")\n",
    "    number += 1\n",
    "    print()"
   ]
  },
  {
   "cell_type": "code",
   "execution_count": 6,
   "metadata": {},
   "outputs": [
    {
     "name": "stdout",
     "output_type": "stream",
     "text": [
      "How much milk do you have?(enter a number)900\n",
      "How much flour do you have?(enter a number)1200\n",
      "You can cook 0 portion(s).\n"
     ]
    }
   ],
   "source": [
    "import math\n",
    "\n",
    "#Read Inputs\n",
    "milk = int(input(\"How much milk do you have?(enter a number)\"))\n",
    "flour = int(input(\"How much flour do you have?(enter a number)\"))\n",
    "\n",
    "#Validate your inputs!!\n",
    "\n",
    "milk_needed = 4/3*flour\n",
    "flour_needed = 3/4 * milk\n",
    "\n",
    "#y = (milk/x)\n",
    "z = math.floor(milk/x)\n",
    "print(f\"You can cook {z} portion(s).\")\n"
   ]
  },
  {
   "cell_type": "code",
   "execution_count": 8,
   "metadata": {},
   "outputs": [
    {
     "name": "stdout",
     "output_type": "stream",
     "text": [
      "Enter the distance: 60\n",
      "After 0 hours, cyclist went 0 and car went 60. The distance between them is 60\n",
      "After 1 hours, cyclist went 60 and car went 70. The distance between them is 10\n",
      "The car overtakes the cyclist in 2 hours.\n"
     ]
    }
   ],
   "source": [
    "b = 10\n",
    "c_ = 60\n",
    "b_d = int(input(\"Enter the distance: \"))\n",
    "c_d = 0\n",
    "h = 0\n",
    "while c_d < b_d:\n",
    "    print(f\"After {h} hours, cyclist went {c_d} and car went {b_d}. The distance between them is {b_d - c_d}\" )\n",
    "    h   += 1\n",
    "    c_d += 60\n",
    "    b_d += 10\n",
    "print(f\"The car overtakes the cyclist in {h} hours.\")"
   ]
  },
  {
   "cell_type": "code",
   "execution_count": null,
   "metadata": {},
   "outputs": [],
   "source": []
  },
  {
   "cell_type": "code",
   "execution_count": null,
   "metadata": {},
   "outputs": [],
   "source": []
  }
 ],
 "metadata": {
  "kernelspec": {
   "display_name": "Python 3",
   "language": "python",
   "name": "python3"
  },
  "language_info": {
   "codemirror_mode": {
    "name": "ipython",
    "version": 3
   },
   "file_extension": ".py",
   "mimetype": "text/x-python",
   "name": "python",
   "nbconvert_exporter": "python",
   "pygments_lexer": "ipython3",
   "version": "3.8.5"
  }
 },
 "nbformat": 4,
 "nbformat_minor": 4
}
