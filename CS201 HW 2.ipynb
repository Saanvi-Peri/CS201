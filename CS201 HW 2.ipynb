{
 "cells": [
  {
   "cell_type": "code",
   "execution_count": 12,
   "metadata": {},
   "outputs": [
    {
     "name": "stdout",
     "output_type": "stream",
     "text": [
      "[['wR', 'wN', 'wB', 'wQ', 'wK', 'wB', 'wN', 'wR'], ['wP', 'wP', 'wP', 'wP', 'wP', 'wP', 'wP', 'wP'], [' ', ' ', ' ', ' ', ' ', ' ', ' ', ' '], [' ', ' ', ' ', ' ', ' ', ' ', ' ', ' '], [' ', ' ', ' ', ' ', ' ', ' ', ' ', ' '], [' ', ' ', ' ', ' ', ' ', ' ', ' ', ' '], ['bP', 'bP', 'bP', 'bP', 'bP', 'bP', 'bP', 'bP'], ['wR', 'wN', 'wB', 'wQ', 'wK', 'wB', 'wN', 'wR']]\n",
      "wQ\n",
      "wK\n"
     ]
    }
   ],
   "source": [
    "Y = ['1', '2', '3', '4', '5', '6', '7', '8']\n",
    "\n",
    "X = [\"a\", \"b\", \"c\",\"d\",\"e\",\"f\",\"g\",\"h\"]\n",
    "\n",
    "CB = [[r+c for r in X] for c in Y]\n",
    "            \n",
    "import copy\n",
    "CB2 = copy.deepcopy(CB)\n",
    "\n",
    "figures = \"RNBQKBNR\"\n",
    "for row in range(len(CB2)):\n",
    "    for column in range(len(CB2)):\n",
    "        if row == 0:\n",
    "            CB2[row][column] = f\"w{figures[column]}\"\n",
    "        elif row == 1:\n",
    "            CB2[row][column] = \"wP\"\n",
    "        elif row == 6:\n",
    "            CB2[row][column] = \"bP\"\n",
    "        elif row == 7:\n",
    "            CB2[row][column] = f\"w{figures[column]}\"\n",
    "        else:\n",
    "            CB2[row][column] = ' '\n",
    "print(CB2)\n",
    "print(CB2[0][3])\n",
    "print(CB2[7][4])"
   ]
  },
  {
   "cell_type": "code",
   "execution_count": 23,
   "metadata": {},
   "outputs": [
    {
     "name": "stdout",
     "output_type": "stream",
     "text": [
      "{'a1': 'wR', 'b1': 'wN', 'c1': 'wB', 'd1': 'wQ', 'e1': 'wK', 'f1': 'wB', 'g1': 'wN', 'h1': 'wR', 'a2': 'wP', 'b2': 'wP', 'c2': 'wP', 'd2': 'wP', 'e2': 'wP', 'f2': 'wP', 'g2': 'wP', 'h2': 'wP', 'a3': ' ', 'b3': ' ', 'c3': ' ', 'd3': ' ', 'e3': ' ', 'f3': ' ', 'g3': ' ', 'h3': ' ', 'a4': ' ', 'b4': ' ', 'c4': ' ', 'd4': ' ', 'e4': ' ', 'f4': ' ', 'g4': ' ', 'h4': ' ', 'a5': ' ', 'b5': ' ', 'c5': ' ', 'd5': ' ', 'e5': ' ', 'f5': ' ', 'g5': ' ', 'h5': ' ', 'a6': ' ', 'b6': ' ', 'c6': ' ', 'd6': ' ', 'e6': ' ', 'f6': ' ', 'g6': ' ', 'h6': ' ', 'a7': 'bP', 'b7': 'bP', 'c7': 'bP', 'd7': 'bP', 'e7': 'bP', 'f7': 'bP', 'g7': 'bP', 'h7': 'bP', 'a8': 'wR', 'b8': 'wN', 'c8': 'wB', 'd8': 'wQ', 'e8': 'wK', 'f8': 'wB', 'g8': 'wN', 'h8': 'wR'}\n"
     ]
    }
   ],
   "source": [
    "CD2 = {}\n",
    "for row in range(len(CB)):\n",
    "    for column in range(len(CB2)):\n",
    "        CD2[CB[row][column]] = CB2[row][column]\n",
    "print(CD2)"
   ]
  },
  {
   "cell_type": "code",
   "execution_count": 44,
   "metadata": {},
   "outputs": [
    {
     "name": "stdout",
     "output_type": "stream",
     "text": [
      "[9, 2, 6, 4, 4, 8, 2, 6, 4, 8, 6, 2, 6, 4, 7]\n"
     ]
    }
   ],
   "source": [
    "zen = \"Beautiful is better than ugly Explicit is better than implicit Simple is better than complex\"\n",
    "x = zen.split(\" \")\n",
    "new_strings = []\n",
    "for i in x:\n",
    "    new_strings.append(len(i))\n",
    "\n",
    "print(new_strings)"
   ]
  },
  {
   "cell_type": "code",
   "execution_count": 26,
   "metadata": {},
   "outputs": [
    {
     "name": "stdout",
     "output_type": "stream",
     "text": [
      "[['Beautiful is better than ugly'], [' Explicit is better than implicit'], [' Simple is better than complex']]\n",
      "[' Simple is better than complex']\n"
     ]
    }
   ],
   "source": [
    "zen = \"Beautiful is better than ugly. Explicit is better than implicit. Simple is better than complex\"\n",
    "y = zen.split(\".\")\n",
    "j = [[i] for i in y]\n",
    "print(j)\n",
    "for x in j:\n",
    "    z = [f\"{w}\" for w in x]\n",
    "print(z)"
   ]
  },
  {
   "cell_type": "code",
   "execution_count": 37,
   "metadata": {},
   "outputs": [
    {
     "name": "stdout",
     "output_type": "stream",
     "text": [
      "{'Beautiful': '7', 'is': '7', 'better': '7', 'than': '7', 'ugly': '7', 'Explicit': '7', 'implicit': '7', 'Simple': '7', 'complex': '7'}\n"
     ]
    }
   ],
   "source": [
    "new_string = ['9', '2', '6', '4', '4', '8', '2', '6', '4', '8', '6', '2', '6', '4', '7']\n",
    "x = ['Beautiful', 'is', 'better', 'than', 'ugly', 'Explicit', 'is', 'better', 'than', 'implicit', 'Simple', 'is', 'better', 'than', 'complex']\n",
    "dict1 = {}\n",
    "for key in range(len(x)):\n",
    "    for value in range(len(new_string)):\n",
    "        dict1[x[key]] = new_string[value]\n",
    "\n",
    "print(dict1)"
   ]
  },
  {
   "cell_type": "code",
   "execution_count": 43,
   "metadata": {},
   "outputs": [
    {
     "name": "stdout",
     "output_type": "stream",
     "text": [
      "beautiful is better than ugly. explicit is better than implicit. simple is better than complex\n"
     ]
    }
   ],
   "source": [
    "zen = \"Beautiful is better than ugly. Explicit is better than implicit. Simple is better than complex\"\n",
    "print(zen.lower())"
   ]
  }
 ],
 "metadata": {
  "kernelspec": {
   "display_name": "Python 3",
   "language": "python",
   "name": "python3"
  },
  "language_info": {
   "codemirror_mode": {
    "name": "ipython",
    "version": 3
   },
   "file_extension": ".py",
   "mimetype": "text/x-python",
   "name": "python",
   "nbconvert_exporter": "python",
   "pygments_lexer": "ipython3",
   "version": "3.8.5"
  }
 },
 "nbformat": 4,
 "nbformat_minor": 4
}
