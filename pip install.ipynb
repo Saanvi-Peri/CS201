{
 "cells": [
  {
   "cell_type": "code",
   "execution_count": 2,
   "metadata": {},
   "outputs": [
    {
     "name": "stdout",
     "output_type": "stream",
     "text": [
      "Requirement already satisfied: vadersentiment in ./miniconda3/envs/conda_env/lib/python3.8/site-packages (3.3.2)\n",
      "Requirement already satisfied: requests in ./miniconda3/envs/conda_env/lib/python3.8/site-packages (from vadersentiment) (2.24.0)\n",
      "Requirement already satisfied: chardet<4,>=3.0.2 in ./miniconda3/envs/conda_env/lib/python3.8/site-packages (from requests->vadersentiment) (3.0.4)\n",
      "Requirement already satisfied: urllib3!=1.25.0,!=1.25.1,<1.26,>=1.21.1 in ./miniconda3/envs/conda_env/lib/python3.8/site-packages (from requests->vadersentiment) (1.25.10)\n",
      "Requirement already satisfied: certifi>=2017.4.17 in ./miniconda3/envs/conda_env/lib/python3.8/site-packages (from requests->vadersentiment) (2020.6.20)\n",
      "Requirement already satisfied: idna<3,>=2.5 in ./miniconda3/envs/conda_env/lib/python3.8/site-packages (from requests->vadersentiment) (2.10)\n"
     ]
    }
   ],
   "source": [
    "!pip install vadersentiment"
   ]
  },
  {
   "cell_type": "code",
   "execution_count": 3,
   "metadata": {},
   "outputs": [],
   "source": [
    "import vaderSentiment"
   ]
  }
 ],
 "metadata": {
  "kernelspec": {
   "display_name": "Python 3",
   "language": "python",
   "name": "python3"
  },
  "language_info": {
   "codemirror_mode": {
    "name": "ipython",
    "version": 3
   },
   "file_extension": ".py",
   "mimetype": "text/x-python",
   "name": "python",
   "nbconvert_exporter": "python",
   "pygments_lexer": "ipython3",
   "version": "3.8.5"
  }
 },
 "nbformat": 4,
 "nbformat_minor": 4
}
