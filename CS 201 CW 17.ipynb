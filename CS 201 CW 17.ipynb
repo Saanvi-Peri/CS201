{
 "cells": [
  {
   "cell_type": "code",
   "execution_count": 3,
   "metadata": {},
   "outputs": [
    {
     "ename": "SyntaxError",
     "evalue": "invalid syntax (<ipython-input-3-4a72b027c4b0>, line 29)",
     "output_type": "error",
     "traceback": [
      "\u001b[0;36m  File \u001b[0;32m\"<ipython-input-3-4a72b027c4b0>\"\u001b[0;36m, line \u001b[0;32m29\u001b[0m\n\u001b[0;31m    if g = 0:\u001b[0m\n\u001b[0m         ^\u001b[0m\n\u001b[0;31mSyntaxError\u001b[0m\u001b[0;31m:\u001b[0m invalid syntax\n"
     ]
    }
   ],
   "source": [
    "#Greed Control competition\n",
    "\n",
    "import random\n",
    "\n",
    "def always10(nums):\n",
    "    return 10\n",
    "    \n",
    "def ten_rand(nums):\n",
    "    if nums.count(10) > 2:\n",
    "        return random.randint(5,9)\n",
    "    else:\n",
    "        return 10\n",
    "\n",
    "funs = [always10,ten_rand]\n",
    "    \n",
    "scores = {}\n",
    "for i in funs:\n",
    "    scores[i.__name__] = 0\n",
    "    \n",
    "games = 10\n",
    "\n",
    "for g in range(games): \n",
    "    if g == 0:\n",
    "        allx,allx_last = [],[]\n",
    "        \n",
    "    for i in range(len(funs)):\n",
    "        cfunction = funs[i]\n",
    "        \n",
    "        if g = 0:\n",
    "            fx = cfunction([])\n",
    "        else:\n",
    "            allx1 = allxlast[:i] + allxlast[i+1:]\n",
    "            fx = cfunction[allx1]\n",
    "            allx.append(fx)\n",
    "        allx_last = allx.copy\n",
    "        allx = []\n",
    "        \n",
    "        cnt, pay = {},{}\n",
    "        for i in range(1,11):\n",
    "            cnt[i] = allx_last.count(i)\n",
    "            if cnt[i] > 0:\n",
    "                pay[i] = i/cnt[i]\n",
    "                \n",
    "        for i in range(len(funs)):\n",
    "            scores[funs[i],__name__] += pay[allx_last[i]]\n",
    "        \n",
    "        print(f\"Round: {g}\")\n",
    "        for i in scores:\n",
    "            print(f\"{i}: {scores[i]:.1f}\")\n",
    "            print(\"...\" * 10)"
   ]
  },
  {
   "cell_type": "code",
   "execution_count": null,
   "metadata": {},
   "outputs": [],
   "source": []
  }
 ],
 "metadata": {
  "kernelspec": {
   "display_name": "Python 3",
   "language": "python",
   "name": "python3"
  },
  "language_info": {
   "codemirror_mode": {
    "name": "ipython",
    "version": 3
   },
   "file_extension": ".py",
   "mimetype": "text/x-python",
   "name": "python",
   "nbconvert_exporter": "python",
   "pygments_lexer": "ipython3",
   "version": "3.8.5"
  }
 },
 "nbformat": 4,
 "nbformat_minor": 4
}
