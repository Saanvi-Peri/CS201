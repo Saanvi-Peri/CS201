{
 "cells": [
  {
   "cell_type": "code",
   "execution_count": 38,
   "metadata": {},
   "outputs": [
    {
     "name": "stdout",
     "output_type": "stream",
     "text": [
      "/home/saanviperi\n",
      "________________________________________________________________________________\n",
      "Number of characters: 1000\n",
      "Number of words: 174\n",
      "Number of sentences: 5\n",
      "Average number of characters per word: 4.747126436781609\n",
      "Average number of words per sentence: 34.8\n",
      "This is a happy book.\n"
     ]
    }
   ],
   "source": [
    "import os\n",
    "cwd = os.getcwd()\n",
    "print(cwd)\n",
    "\n",
    "filename = '/home/saanviperi/pride and prejudice.txt'\n",
    "try:\n",
    "    with open(filename, 'r', encoding = 'utf8') as h:\n",
    "        htext = h.read(1000) \n",
    "except e:\n",
    "    print(f\"No such file, {filename}\")\n",
    "\n",
    "print(\"_\" * 80)\n",
    "#print(htext)\n",
    "len_txt = len(htext)\n",
    "num_words = htext.count(' ')\n",
    "num_sens = htext.count('.')\n",
    "print(f\"Number of characters: {len_txt}\")\n",
    "print(f\"Number of words: {num_words}\") # default - split by space\n",
    "print(f\"Number of sentences: {num_sens}\")\n",
    "print(f\"Average number of characters per word: {(len_txt - num_words)/num_words}\")\n",
    "print(f\"Average number of words per sentence: {num_words/num_sens}\")\n",
    "sad = htext.count(\"sad\")\n",
    "Sad = htext.count(\"Sad\")\n",
    "happy = htext.count(\"happy\")\n",
    "Happy = htext.count(\"Happy\")\n",
    "if int(sad) + int(Sad) > int(happy) + int(Happy):\n",
    "    print(\"This is a sad book.\")\n",
    "else:\n",
    "    print(\"This is a happy book.\")"
   ]
  },
  {
   "cell_type": "code",
   "execution_count": null,
   "metadata": {},
   "outputs": [],
   "source": []
  }
 ],
 "metadata": {
  "kernelspec": {
   "display_name": "Python 3",
   "language": "python",
   "name": "python3"
  },
  "language_info": {
   "codemirror_mode": {
    "name": "ipython",
    "version": 3
   },
   "file_extension": ".py",
   "mimetype": "text/x-python",
   "name": "python",
   "nbconvert_exporter": "python",
   "pygments_lexer": "ipython3",
   "version": "3.8.5"
  }
 },
 "nbformat": 4,
 "nbformat_minor": 4
}
