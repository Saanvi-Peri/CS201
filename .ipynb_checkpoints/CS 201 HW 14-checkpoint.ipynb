{
 "cells": [
  {
   "cell_type": "code",
   "execution_count": 1,
   "metadata": {},
   "outputs": [],
   "source": [
    "import numpy as np\n",
    "import os\n",
    "import matplotlib.pyplot as plt\n",
    "\n",
    "from sklearn.svm import SVC\n",
    "from sklearn.model_selection import train_test_split\n",
    "from sklearn import metrics\n",
    "from sklearn.preprocessing import StandardScaler"
   ]
  },
  {
   "cell_type": "code",
   "execution_count": 1,
   "metadata": {},
   "outputs": [
    {
     "ename": "NameError",
     "evalue": "name 'np' is not defined",
     "output_type": "error",
     "traceback": [
      "\u001b[0;31m---------------------------------------------------------------------------\u001b[0m",
      "\u001b[0;31mNameError\u001b[0m                                 Traceback (most recent call last)",
      "\u001b[0;32m<ipython-input-1-6f5073c0f502>\u001b[0m in \u001b[0;36m<module>\u001b[0;34m\u001b[0m\n\u001b[1;32m      1\u001b[0m \u001b[0mpath\u001b[0m\u001b[0;34m=\u001b[0m\u001b[0;34m'/home/saanviperi/data/puzzle.csv'\u001b[0m\u001b[0;34m\u001b[0m\u001b[0;34m\u001b[0m\u001b[0m\n\u001b[0;32m----> 2\u001b[0;31m \u001b[0mX\u001b[0m \u001b[0;34m=\u001b[0m \u001b[0mnp\u001b[0m\u001b[0;34m.\u001b[0m\u001b[0mloadtxt\u001b[0m\u001b[0;34m(\u001b[0m\u001b[0mpath\u001b[0m\u001b[0;34m)\u001b[0m \u001b[0;31m# after the file is saved to the folder above\u001b[0m\u001b[0;34m\u001b[0m\u001b[0;34m\u001b[0m\u001b[0m\n\u001b[0m\u001b[1;32m      3\u001b[0m \u001b[0;34m\u001b[0m\u001b[0m\n\u001b[1;32m      4\u001b[0m \u001b[0mrows\u001b[0m \u001b[0;34m=\u001b[0m \u001b[0mlen\u001b[0m\u001b[0;34m(\u001b[0m\u001b[0mX\u001b[0m\u001b[0;34m)\u001b[0m\u001b[0;34m\u001b[0m\u001b[0;34m\u001b[0m\u001b[0m\n\u001b[1;32m      5\u001b[0m \u001b[0mhist\u001b[0m \u001b[0;34m=\u001b[0m \u001b[0;36m4\u001b[0m\u001b[0;34m\u001b[0m\u001b[0;34m\u001b[0m\u001b[0m\n",
      "\u001b[0;31mNameError\u001b[0m: name 'np' is not defined"
     ]
    }
   ],
   "source": [
    "\n",
    "path='/home/saanviperi/data/puzzle.csv'\n",
    "X = np.loadtxt(path) # after the file is saved to the folder above\n",
    "\n",
    "rows = len(X)\n",
    "hist = 4\n",
    "\n",
    "# X is just a vector of values\n",
    "# we need to transform it into data matrix\n",
    "# each row is a case that has input and output\n",
    "# input is history, output is observation\n",
    "\n",
    "# data: history + 1 observation\n",
    "# for example, [1, 0, 2]: [1, 0] is history, [2] is obs\n",
    "# data looks like this (for hist = 2):\n",
    "       # [0, 3, 3],\n",
    "       # [3, 3, 0],\n",
    "       # [3, 0, 2],\n",
    "\n",
    "data = np.zeros((rows - hist, hist + 1), dtype = np.int32)\n",
    "\n",
    "for t in range(rows - hist):\n",
    "    data[t, :] = X[t: t+hist+1]\n",
    "    \n",
    "clf = SVC() # machine learning model (Support Vector Classifier)\n",
    "\n",
    "# prepare data: train and test division\n",
    "# X are your input variables\n",
    "X_train, X_test, y_train, y_test = train_test_split(\n",
    "    data[:, 0:hist], data[:, hist], test_size = 0.3, shuffle = False)    \n",
    "\n",
    "clf.fit(X_train, y_train) # machine learning training\n",
    "\n",
    "predicted = clf.predict(X_test)\n",
    "\n",
    "print(f\"Classification report for {clf}: \\n\"\n",
    "      f\"{metrics.classification_report(y_test, predicted)}\\n\")"
   ]
  },
  {
   "cell_type": "code",
   "execution_count": null,
   "metadata": {},
   "outputs": [],
   "source": []
  }
 ],
 "metadata": {
  "kernelspec": {
   "display_name": "Python 3",
   "language": "python",
   "name": "python3"
  },
  "language_info": {
   "codemirror_mode": {
    "name": "ipython",
    "version": 3
   },
   "file_extension": ".py",
   "mimetype": "text/x-python",
   "name": "python",
   "nbconvert_exporter": "python",
   "pygments_lexer": "ipython3",
   "version": "3.8.5"
  }
 },
 "nbformat": 4,
 "nbformat_minor": 4
}
