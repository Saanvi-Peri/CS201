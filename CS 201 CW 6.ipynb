{
 "cells": [
  {
   "cell_type": "code",
   "execution_count": 17,
   "metadata": {},
   "outputs": [
    {
     "name": "stdout",
     "output_type": "stream",
     "text": [
      "[829, 667, 279, 786, 145]\n",
      "[60, 62, 77]\n",
      "[(0, 0), (0, 1), (0, 2), (0, 3), (0, 4), (0, 5), (0, 6), (0, 7), (0, 8), (0, 9), (1, 0), (1, 1), (1, 2), (1, 3), (1, 4), (1, 5), (1, 6), (1, 7), (1, 8), (1, 9), (2, 0), (2, 1), (2, 2), (2, 3), (2, 4), (2, 5), (2, 6), (2, 7), (2, 8), (2, 9), (3, 0), (3, 1), (3, 2), (3, 3), (3, 4), (3, 5), (3, 6), (3, 7), (3, 8), (3, 9), (4, 0), (4, 1), (4, 2), (4, 3), (4, 4), (4, 5), (4, 6), (4, 7), (4, 8), (4, 9), (5, 0), (5, 1), (5, 2), (5, 3), (5, 4), (5, 5), (5, 6), (5, 7), (5, 8), (5, 9), (6, 0), (6, 1), (6, 2), (6, 3), (6, 4), (6, 5), (6, 6), (6, 7), (6, 8), (6, 9), (7, 0), (7, 1), (7, 2), (7, 3), (7, 4), (7, 5), (7, 6), (7, 7), (7, 8), (7, 9), (8, 0), (8, 1), (8, 2), (8, 3), (8, 4), (8, 5), (8, 6), (8, 7), (8, 8), (8, 9), (9, 0), (9, 1), (9, 2), (9, 3), (9, 4), (9, 5), (9, 6), (9, 7), (9, 8), (9, 9)]\n",
      "[(1, 1), (0, 6), (4, 3)]\n",
      "[<__main__.plane object at 0x7faba101b5e0>, <__main__.plane object at 0x7faba0762e20>, <__main__.plane object at 0x7faba0762910>, <__main__.plane object at 0x7faba0762880>, <__main__.plane object at 0x7faba0762a30>]\n",
      "[<__main__.airport object at 0x7faba07570d0>, <__main__.airport object at 0x7faba0762d90>, <__main__.airport object at 0x7faba0762bb0>]\n"
     ]
    }
   ],
   "source": [
    "#CS 201 11/7/2021\n",
    "#planes and airports\n",
    "import random\n",
    "\n",
    "class plane:\n",
    "    \n",
    "    def __init__(self,unique_id):\n",
    "        self.id = unique_id\n",
    "        self.airport = 0 #airport object\n",
    "        \n",
    "    def display(self):\n",
    "        print(f\"Plane {self.id} at {self.airport.id}\")\n",
    "        \n",
    "class airport:\n",
    "    \n",
    "    def __init__(self,unique_id, location):\n",
    "        self.id = unique_id\n",
    "        self.loc = location # (x,y) tuple\n",
    "        self.gplanes = [] # list of plane objects\n",
    "\n",
    "    def display(self):\n",
    "        print(f\"Airport {self.id}, {self.loc}\", end = '')\n",
    "        print(f\"Planes {self.gplanes}\")\n",
    "        \n",
    "num_airports = 3\n",
    "num_planes = 5\n",
    "\n",
    "planes_ids = random.sample(list(range(100, 1000)), num_planes)\n",
    "print(planes_ids)\n",
    "airports_ids = random.sample(list(range(10, 100)), num_airports)\n",
    "print(airports_ids)\n",
    "all_locs = [(x,y) for x in range(10) for y in range(10)]\n",
    "print(all_locs)\n",
    "airports_locs = random.sample(all_locs, num_airports)\n",
    "print(airports_locs)\n",
    "\n",
    "planes = [plane(i) for i in planes_ids]\n",
    "print(planes)\n",
    "airports = [airport(airports_ids[i],airports_locs[i]) for i in range(num_airports)]\n",
    "print(airports)\n",
    "\n",
    "try:\n",
    "    for i in planes:\n",
    "        i.display\n",
    "    for i in airports:\n",
    "        i.display\n",
    "except:\n",
    "    print(\"Not all planes were assigned!\")"
   ]
  },
  {
   "cell_type": "code",
   "execution_count": null,
   "metadata": {},
   "outputs": [],
   "source": []
  }
 ],
 "metadata": {
  "kernelspec": {
   "display_name": "Python 3",
   "language": "python",
   "name": "python3"
  },
  "language_info": {
   "codemirror_mode": {
    "name": "ipython",
    "version": 3
   },
   "file_extension": ".py",
   "mimetype": "text/x-python",
   "name": "python",
   "nbconvert_exporter": "python",
   "pygments_lexer": "ipython3",
   "version": "3.8.5"
  }
 },
 "nbformat": 4,
 "nbformat_minor": 4
}
