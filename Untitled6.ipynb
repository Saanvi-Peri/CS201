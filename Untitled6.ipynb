{
 "cells": [
  {
   "cell_type": "code",
   "execution_count": 10,
   "metadata": {},
   "outputs": [
    {
     "name": "stdout",
     "output_type": "stream",
     "text": [
      "['Beautiful', 'is', 'better', 'than', 'ugly', 'Explicit', 'is', 'better', 'than', 'implicit', 'Simple', 'is', 'better', 'than', 'complex']\n",
      "[9, 2, 6, 4, 4, 8, 2, 6, 4, 8, 6, 2, 6, 4, 7]\n"
     ]
    }
   ],
   "source": [
    "zen = \"Beautiful is better than ugly Explicit is better than implicit Simple is better than complex\"\n",
    "x = zen.split(\" \")\n",
    "new_strings = []\n",
    "for i in x:\n",
    "    new_strings.append(len(i))\n",
    "\n",
    "print(new_strings)\n"
   ]
  },
  {
   "cell_type": "code",
   "execution_count": 65,
   "metadata": {},
   "outputs": [
    {
     "name": "stdout",
     "output_type": "stream",
     "text": [
      "[['Beautiful is better than ugly'], [' Explicit is better than implicit'], [' Simple is better than complex']]\n",
      "[' Simple is better than complex']\n"
     ]
    }
   ],
   "source": [
    "zen = \"Beautiful is better than ugly. Explicit is better than implicit. Simple is better than complex\"\n",
    "y = zen.split(\".\")\n",
    "j = [[i] for i in y]\n",
    "print(j)\n",
    "for x in j:\n",
    "    z = [f\"{w}\" for w in x]\n",
    "print(z)"
   ]
  },
  {
   "cell_type": "code",
   "execution_count": null,
   "metadata": {},
   "outputs": [],
   "source": []
  }
 ],
 "metadata": {
  "kernelspec": {
   "display_name": "Python 3",
   "language": "python",
   "name": "python3"
  },
  "language_info": {
   "codemirror_mode": {
    "name": "ipython",
    "version": 3
   },
   "file_extension": ".py",
   "mimetype": "text/x-python",
   "name": "python",
   "nbconvert_exporter": "python",
   "pygments_lexer": "ipython3",
   "version": "3.8.5"
  }
 },
 "nbformat": 4,
 "nbformat_minor": 4
}
