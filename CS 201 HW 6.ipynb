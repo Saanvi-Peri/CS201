{
 "cells": [
  {
   "cell_type": "code",
   "execution_count": 13,
   "metadata": {},
   "outputs": [
    {
     "name": "stdout",
     "output_type": "stream",
     "text": [
      "[326, 543, 256, 948, 965] [97, 23, 87]\n",
      "[97, 23, 87]\n",
      "[(0, 0), (0, 1), (0, 2), (0, 3), (0, 4), (0, 5), (0, 6), (0, 7), (0, 8), (0, 9), (1, 0), (1, 1), (1, 2), (1, 3), (1, 4), (1, 5), (1, 6), (1, 7), (1, 8), (1, 9), (2, 0), (2, 1), (2, 2), (2, 3), (2, 4), (2, 5), (2, 6), (2, 7), (2, 8), (2, 9), (3, 0), (3, 1), (3, 2), (3, 3), (3, 4), (3, 5), (3, 6), (3, 7), (3, 8), (3, 9), (4, 0), (4, 1), (4, 2), (4, 3), (4, 4), (4, 5), (4, 6), (4, 7), (4, 8), (4, 9), (5, 0), (5, 1), (5, 2), (5, 3), (5, 4), (5, 5), (5, 6), (5, 7), (5, 8), (5, 9), (6, 0), (6, 1), (6, 2), (6, 3), (6, 4), (6, 5), (6, 6), (6, 7), (6, 8), (6, 9), (7, 0), (7, 1), (7, 2), (7, 3), (7, 4), (7, 5), (7, 6), (7, 7), (7, 8), (7, 9), (8, 0), (8, 1), (8, 2), (8, 3), (8, 4), (8, 5), (8, 6), (8, 7), (8, 8), (8, 9), (9, 0), (9, 1), (9, 2), (9, 3), (9, 4), (9, 5), (9, 6), (9, 7), (9, 8), (9, 9)]\n",
      "[(1, 3), (8, 6), (5, 6)]\n",
      "[<__main__.plane object at 0x7c60340fc490>, <__main__.plane object at 0x7c60340fc940>, <__main__.plane object at 0x7c60340fca00>, <__main__.plane object at 0x7c60340fcfd0>, <__main__.plane object at 0x7c60340fc9d0>]\n",
      "[<__main__.airport object at 0x7c6034194bb0>, <__main__.airport object at 0x7c60340fcf10>, <__main__.airport object at 0x7c60340fc250>]\n"
     ]
    }
   ],
   "source": [
    "import random\n",
    "\n",
    "class Plane:\n",
    "    \n",
    "    def __init__(self, unique_id):\n",
    "        self.id = unique_id\n",
    "        self.airport = None #to be filled later\n",
    "        \n",
    "    def __str__(self):\n",
    "        return f\"Plane {self.id} at {self.airport.id} Located at {self.airport.loc}\"\n",
    "    \n",
    "    def __repr__(self):\n",
    "        return self.__str__()\n",
    "        \n",
    "class Airport:\n",
    "    \n",
    "    def __init__(self, unique_id, location):\n",
    "        self.id = unique_id\n",
    "        self.loc = location # (x, y) tuple\n",
    "        self.gplanes = [] # list of plane OBJECTS!\n",
    "        \n",
    "    def __str__(self):\n",
    "        return f\"Airport {self.id}, {self.loc}. Planes {self.gplanes}\"\n",
    "        \n",
    "    def __repr__(self):\n",
    "        return self.__str__()\n",
    "    \n",
    "    def calc_distance(self):\n",
    "        self.\n",
    "        x1 = [i for i in x]\n",
    "\n",
    "\n",
    "    \n",
    "def main():\n",
    "\n",
    "    num_airports = 3\n",
    "    num_planes = 5\n",
    "\n",
    "    planes_ids = random.sample(list(range(100, 1000)), num_planes)\n",
    "    airports_ids = random.sample(list(range(10, 100)), num_airports)\n",
    "\n",
    "    all_locs = [(x, y) for x in range(10) for y in range(10)]\n",
    "    airports_locs = random.sample(all_locs, num_airports)    \n",
    "\n",
    "    planes = [plane(i) for i in planes_ids]\n",
    "    airports = [airport(airports_ids[i], airports_locs[i]) \\\n",
    "                for i in range(num_airports)]\n",
    "\n",
    "    print(planes_ids,airports_ids)\n",
    "    print(airports_ids)\n",
    "    print(all_locs)\n",
    "    print(airports_locs)\n",
    "    print(planes)\n",
    "    print(airports)\n",
    "\n",
    "\n",
    "def try_and_except():\n",
    "    \n",
    "    try:\n",
    "        for i in planes:\n",
    "            i.display()\n",
    "        \n",
    "        for i in airports:\n",
    "            i.display()\n",
    "    \n",
    "    except:\n",
    "        print(\"Not all planes were assigned!\")\n",
    "\n",
    "\n",
    "    \n",
    "\n",
    "\n"
   ]
  },
  {
   "cell_type": "code",
   "execution_count": null,
   "metadata": {},
   "outputs": [],
   "source": [
    "class All_Airports:\n",
    "    #S_ALL_LOCATIONS = [(x, y) random.sample(100), random.sample(100)]\n",
    "    S_ALL_AIRPORTS = None\n",
    "    \n",
    "    #@classmethod\n",
    "    #def init(cls):\n",
    "    #    S_ALL_AIRPORTS = [Airport()]\n",
    "main()"
   ]
  },
  {
   "cell_type": "code",
   "execution_count": null,
   "metadata": {},
   "outputs": [],
   "source": [
    "def test_try_and_except():\n",
    "    pass\n",
    "\n",
    "def airport_test():\n",
    "    "
   ]
  }
 ],
 "metadata": {
  "kernelspec": {
   "display_name": "Python 3",
   "language": "python",
   "name": "python3"
  },
  "language_info": {
   "codemirror_mode": {
    "name": "ipython",
    "version": 3
   },
   "file_extension": ".py",
   "mimetype": "text/x-python",
   "name": "python",
   "nbconvert_exporter": "python",
   "pygments_lexer": "ipython3",
   "version": "3.8.5"
  }
 },
 "nbformat": 4,
 "nbformat_minor": 4
}
