{
 "cells": [
  {
   "cell_type": "code",
   "execution_count": 6,
   "metadata": {},
   "outputs": [
    {
     "name": "stdout",
     "output_type": "stream",
     "text": [
      "[25 25  4  4 25  9 36  9 16 16]\n"
     ]
    }
   ],
   "source": [
    "import numpy as np\n",
    "#np.random.binomial\n",
    "#(# of trials, probability of 1, # of elements)\n",
    "\n",
    "#np.random.randint(x,y,z)\n",
    "#x=first num\n",
    "#y=1+last num(excluded)\n",
    "#z=# of elements\n",
    "\n",
    "#random.randint(x,y) <= this is NOT numpy\n",
    "#x=first num\n",
    "#y=last num(included)\n",
    "\n",
    "x = np.random.randint(2,7,10)\n",
    "x2 = x**2\n",
    "print(x2)\n",
    "\n",
    "#np.random.uniform(x,y,z) <= used to get floats instead of ints\n",
    "#x=low\n",
    "#y=high\n",
    "## of elements\n",
    "\n",
    "#np.random.multinomial(T,pvals,# of elements) <= for multinomials\n",
    "#T = # of trials\n",
    "#pvals = a list of values that are the probobilities for each value"
   ]
  },
  {
   "cell_type": "code",
   "execution_count": null,
   "metadata": {},
   "outputs": [],
   "source": [
    "\n"
   ]
  }
 ],
 "metadata": {
  "kernelspec": {
   "display_name": "Python 3",
   "language": "python",
   "name": "python3"
  },
  "language_info": {
   "codemirror_mode": {
    "name": "ipython",
    "version": 3
   },
   "file_extension": ".py",
   "mimetype": "text/x-python",
   "name": "python",
   "nbconvert_exporter": "python",
   "pygments_lexer": "ipython3",
   "version": "3.8.5"
  }
 },
 "nbformat": 4,
 "nbformat_minor": 4
}
