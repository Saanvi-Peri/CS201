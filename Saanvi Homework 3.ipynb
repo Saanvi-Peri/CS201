{
 "cells": [
  {
   "cell_type": "code",
   "execution_count": 1,
   "metadata": {},
   "outputs": [
    {
     "name": "stdout",
     "output_type": "stream",
     "text": [
      "Sastry-->Syamala-->Ram-->Vidya-->Saanvi-->Savir\n"
     ]
    }
   ],
   "source": [
    "grandpa = \"Sastry\"\n",
    "grandma = \"Syamala\"\n",
    "dad = \"Ram\"\n",
    "mom = \"Vidya\"\n",
    "me = \"Saanvi\"\n",
    "bro = \"Savir\"\n",
    "print(grandpa, grandma, dad, mom, me, bro, sep = '-->')"
   ]
  },
  {
   "cell_type": "code",
   "execution_count": 2,
   "metadata": {},
   "outputs": [
    {
     "name": "stdout",
     "output_type": "stream",
     "text": [
      "How old are you? 12\n",
      "How are you? good\n",
      "What is 5/2? 2.5\n",
      "True true\n"
     ]
    },
    {
     "data": {
      "text/plain": [
       "True"
      ]
     },
     "execution_count": 2,
     "metadata": {},
     "output_type": "execute_result"
    }
   ],
   "source": [
    "int(input(\"How old are you? \"))\n",
    "str(input(\"How are you? \"))\n",
    "float(input(\"What is 5/2? \"))\n",
    "bool(input(\"True \"))"
   ]
  },
  {
   "cell_type": "code",
   "execution_count": 4,
   "metadata": {},
   "outputs": [
    {
     "name": "stdout",
     "output_type": "stream",
     "text": [
      "What grade are you in?7\n",
      "You will continue to go to school for 5 more years.\n"
     ]
    }
   ],
   "source": [
    "grade = int(input(\"What grade are you in?\"))\n",
    "print(\"You will continue to go to school for\", 12-grade, \"more years.\")"
   ]
  },
  {
   "cell_type": "code",
   "execution_count": 6,
   "metadata": {},
   "outputs": [
    {
     "name": "stdout",
     "output_type": "stream",
     "text": [
      "How many dollars do you have? 5\n",
      "You have 366.85 rupees.\n"
     ]
    }
   ],
   "source": [
    "dollars = int(input(\"How many dollars do you have? \"))\n",
    "print(\"You have\", dollars*73.37, \"rupees.\")"
   ]
  },
  {
   "cell_type": "code",
   "execution_count": null,
   "metadata": {},
   "outputs": [],
   "source": []
  }
 ],
 "metadata": {
  "kernelspec": {
   "display_name": "Python 3",
   "language": "python",
   "name": "python3"
  },
  "language_info": {
   "codemirror_mode": {
    "name": "ipython",
    "version": 3
   },
   "file_extension": ".py",
   "mimetype": "text/x-python",
   "name": "python",
   "nbconvert_exporter": "python",
   "pygments_lexer": "ipython3",
   "version": "3.8.5"
  }
 },
 "nbformat": 4,
 "nbformat_minor": 4
}
