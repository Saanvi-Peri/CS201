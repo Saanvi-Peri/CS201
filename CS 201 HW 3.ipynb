{
 "cells": [
  {
   "cell_type": "code",
   "execution_count": null,
   "metadata": {},
   "outputs": [],
   "source": [
    "question = input(\"Can you write two sentences? Each sentence must have at least two words. : \")\n",
    "counter = question.count('.')\n",
    "print(counter)\n",
    "words = question.split('.')\n",
    "print(words)\n",
    "counters = 0\n",
    "counters = counters + 1\n",
    "while counters < 3:\n",
    "    for word in words:\n",
    "        counter1 = word.count(' ')\n",
    "    if counter < 2: \n",
    "        print(\"try again\")\n",
    "    elif counter1 < 1:\n",
    "        print(\"try again\")\n",
    "        question = input(\"Can you write two sentences? Each sentence must have at least two words. : \")\n",
    "    else:\n",
    "        print(\"yay!\")"
   ]
  },
  {
   "cell_type": "code",
   "execution_count": null,
   "metadata": {},
   "outputs": [],
   "source": [
    "class Text:\n",
    "    def num_sentence(self):\n",
    "        num_sens = .count('.')\n",
    "        print(f\"The number of sentences are {num_sens}.\")\n",
    "        \n",
    "    def num_words(self):\n",
    "        num_words = .count(' ')\n",
    "        print(f\"The number of words are {num_words}.\")\n",
    "    \n",
    "    def avg_num_words(self):\n",
    "        print(f\"Average number of words per sentence: {num_words/num_sens}\")\n",
    "    \n",
    "    def avg_num_chars(self):\n",
    "        print(f\"Average number of characters per word: {(len_txt - num_words)/num_words}\")\n",
    "        \n",
    "    def dictionary(self):\n",
    "        dict1 = {}\n",
    "        "
   ]
  },
  {
   "cell_type": "code",
   "execution_count": 1,
   "metadata": {},
   "outputs": [
    {
     "name": "stdout",
     "output_type": "stream",
     "text": [
      "Hello my name is Ram\n",
      "Hello my name is Saanvi\n"
     ]
    }
   ],
   "source": [
    "class Person:\n",
    "    def __init__(mysillyobject, name, age):\n",
    "        mysillyobject.name = name\n",
    "        mysillyobject.age = age\n",
    "\n",
    "    def myfunc(mysillyobject):\n",
    "        print(\"Hello my name is \" + mysillyobject.name)\n",
    "\n",
    "y = Person(\"Ram\", 31)\n",
    "x = Person(\"Saanvi\", 13)\n",
    "y.myfunc()\n",
    "x.myfunc()"
   ]
  }
 ],
 "metadata": {
  "kernelspec": {
   "display_name": "Python 3",
   "language": "python",
   "name": "python3"
  },
  "language_info": {
   "codemirror_mode": {
    "name": "ipython",
    "version": 3
   },
   "file_extension": ".py",
   "mimetype": "text/x-python",
   "name": "python",
   "nbconvert_exporter": "python",
   "pygments_lexer": "ipython3",
   "version": "3.8.5"
  }
 },
 "nbformat": 4,
 "nbformat_minor": 4
}
